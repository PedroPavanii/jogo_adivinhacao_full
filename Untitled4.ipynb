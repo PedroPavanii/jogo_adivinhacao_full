{
  "nbformat": 4,
  "nbformat_minor": 0,
  "metadata": {
    "colab": {
      "provenance": [],
      "include_colab_link": true
    },
    "kernelspec": {
      "name": "python3",
      "display_name": "Python 3"
    },
    "language_info": {
      "name": "python"
    }
  },
  "cells": [
    {
      "cell_type": "markdown",
      "metadata": {
        "id": "view-in-github",
        "colab_type": "text"
      },
      "source": [
        "<a href=\"https://colab.research.google.com/github/PedroPavanii/jogo_adivinhacao_full/blob/rayan/Untitled4.ipynb\" target=\"_parent\"><img src=\"https://colab.research.google.com/assets/colab-badge.svg\" alt=\"Open In Colab\"/></a>"
      ]
    },
    {
      "cell_type": "code",
      "execution_count": null,
      "metadata": {
        "colab": {
          "base_uri": "https://localhost:8080/"
        },
        "id": "ruXnVkl_pbCM",
        "outputId": "1ef954e0-9320-4483-f977-c429bad3dce3"
      },
      "outputs": [
        {
          "output_type": "stream",
          "name": "stdout",
          "text": [
            "*********************************\n",
            "Bem vindo ao jogo de Adivinhação!\n",
            "*********************************\n",
            "Qual nível de dificuldade?\n",
            "(1) Fácil (2) Médio (3) Difícil\n"
          ]
        }
      ],
      "source": [
        "import random\n",
        "\n",
        "def jogar():\n",
        "\n",
        "    print(\"*********************************\")\n",
        "    print(\"Bem vindo ao jogo de Adivinhação!\")\n",
        "    print(\"*********************************\")\n",
        "\n",
        "    numero_secreto = random.randrange(1,101)\n",
        "    total_de_tentativas = 0\n",
        "    pontos = 1000\n",
        "\n",
        "    print(\"Qual nível de dificuldade?\")\n",
        "    print(\"(1) Fácil (2) Médio (3) Difícil\")\n",
        "\n",
        "    nivel = int(input(\"Defina o nível: \"))\n",
        "\n",
        "    if(nivel == 1):\n",
        "        total_de_tentativas = 20\n",
        "    elif(nivel == 2):\n",
        "        total_de_tentativas = 10\n",
        "    else:\n",
        "        total_de_tentativas = 5\n",
        "\n",
        "    for rodada in range(1, total_de_tentativas + 1):\n",
        "        print(\"Tentativa {} de {}\".format(rodada, total_de_tentativas))\n",
        "\n",
        "        chute_str = input(\"Digite um número entre 1 e 100: \")\n",
        "        print(\"Você digitou \" , chute_str)\n",
        "        chute = int(chute_str)\n",
        "\n",
        "        if(chute < 1 or chute > 100):\n",
        "            print(\"Você deve digitar um número entre 1 e 100!\")\n",
        "            continue\n",
        "\n",
        "        acertou = chute == numero_secreto\n",
        "        maior   = chute > numero_secreto\n",
        "        menor   = chute < numero_secreto\n",
        "\n",
        "        if(acertou):\n",
        "            print(\"Você acertou e fez {} pontos!\".format(pontos))\n",
        "            break\n",
        "        else:\n",
        "            if(maior):\n",
        "                print(\"Você errou! O seu chute foi maior do que o número secreto.\")\n",
        "            elif(menor):\n",
        "                print(\"Você errou! O seu chute foi menor do que o número secreto.\")\n",
        "            pontos_perdidos = abs(numero_secreto - chute)\n",
        "            pontos = pontos - pontos_perdidos\n",
        "\n",
        "    \n",
        "    print(\"Fim do jogo\")\n",
        "    print(\"Deseja jogar novamente?\")\n",
        "    print(\"(1) Sim ou (2) Não\")\n",
        "    escolha = int(input('Digite sua escolha: '))\n",
        "    if escolha == 1:\n",
        "        return jogar()\n",
        "    else:\n",
        "        print('Obrigado por jogar!')\n",
        "\n",
        "jogar()"
      ]
    }
  ]
}