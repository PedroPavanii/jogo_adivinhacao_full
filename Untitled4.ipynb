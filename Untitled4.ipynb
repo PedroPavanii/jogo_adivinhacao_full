{
  "nbformat": 4,
  "nbformat_minor": 0,
  "metadata": {
    "colab": {
      "provenance": []
    },
    "kernelspec": {
      "name": "python3",
      "display_name": "Python 3"
    },
    "language_info": {
      "name": "python"
    }
  },
  "cells": [
    {
      "cell_type": "code",
      "execution_count": 5,
      "metadata": {
        "colab": {
          "base_uri": "https://localhost:8080/"
        },
        "id": "ruXnVkl_pbCM",
        "outputId": "b8a65c8d-10fb-48bf-8410-03ac7b330f48"
      },
      "outputs": [
        {
          "output_type": "stream",
          "name": "stdout",
          "text": [
            "*********************************\n",
            "Bem vindo ao jogo de Adivinhação!\n",
            "*********************************\n",
            "Qual nível de dificuldade?\n",
            "(1) Fácil (2) Médio (3) Difícil\n",
            "Defina o nível: 3\n",
            "Tentativa 1 de 5\n",
            "Digite um número entre 1 e 100: 3\n",
            "Você digitou  3\n",
            "Você errou! O seu chute foi menor do que o número secreto.\n",
            "Tentativa 2 de 5\n",
            "Digite um número entre 1 e 100: 6\n",
            "Você digitou  6\n",
            "Você errou! O seu chute foi menor do que o número secreto.\n",
            "Tentativa 3 de 5\n",
            "Digite um número entre 1 e 100: 4\n",
            "Você digitou  4\n",
            "Você errou! O seu chute foi menor do que o número secreto.\n",
            "Tentativa 4 de 5\n",
            "Digite um número entre 1 e 100: 9\n",
            "Você digitou  9\n",
            "Você errou! O seu chute foi menor do que o número secreto.\n",
            "Tentativa 5 de 5\n",
            "Digite um número entre 1 e 100: 8\n",
            "Você digitou  8\n",
            "Você errou! O seu chute foi menor do que o número secreto.\n",
            "Fim do jogo\n",
            "Deseja jogar novamente?\n",
            "(1) Sim ou (2) Não\n",
            "Digite sua escolha: 2\n",
            "Obrigado por jogar!\n"
          ]
        }
      ],
      "source": [
        "import random\n",
        "\n",
        "def jogar():\n",
        "\n",
        "    print(\"*********************************\")\n",
        "    print(\"Bem vindo ao jogo de Adivinhação!\")\n",
        "    print(\"*********************************\")\n",
        "\n",
        "    numero_secreto = random.randrange(1,101)\n",
        "    total_de_tentativas = 0\n",
        "    pontos = 1000\n",
        "\n",
        "    print(\"Qual nível de dificuldade?\")\n",
        "    print(\"(1) Fácil (2) Médio (3) Difícil\")\n",
        "\n",
        "    nivel = int(input(\"Defina o nível: \"))\n",
        "\n",
        "    if(nivel == 1):\n",
        "        total_de_tentativas = 20\n",
        "    elif(nivel == 2):\n",
        "        total_de_tentativas = 10\n",
        "    else:\n",
        "        total_de_tentativas = 5\n",
        "\n",
        "    for rodada in range(1, total_de_tentativas + 1):\n",
        "        print(\"Tentativa {} de {}\".format(rodada, total_de_tentativas))\n",
        "\n",
        "        chute_str = input(\"Digite um número entre 1 e 100: \")\n",
        "        print(\"Você digitou \" , chute_str)\n",
        "        chute = int(chute_str)\n",
        "\n",
        "        if(chute < 1 or chute > 100):\n",
        "            print(\"Você deve digitar um número entre 1 e 100!\")\n",
        "            continue\n",
        "\n",
        "        acertou = chute == numero_secreto\n",
        "        maior   = chute > numero_secreto\n",
        "        menor   = chute < numero_secreto\n",
        "\n",
        "        if(acertou):\n",
        "            print(\"Você acertou e fez {} pontos!\".format(pontos))\n",
        "            break\n",
        "        else:\n",
        "            if(maior):\n",
        "                print(\"Você errou! O seu chute foi maior do que o número secreto.\")\n",
        "            elif(menor):\n",
        "                print(\"Você errou! O seu chute foi menor do que o número secreto.\")\n",
        "            pontos_perdidos = abs(numero_secreto - chute)\n",
        "            pontos = pontos - pontos_perdidos\n",
        "\n",
        "    \n",
        "    print(\"Fim do jogo\")\n",
        "    print(\"Deseja jogar novamente?\")\n",
        "    print(\"(1) Sim ou (2) Não\")\n",
        "    escolha = int(input('Digite sua escolha: '))\n",
        "    if escolha == 1:\n",
        "        return jogar()\n",
        "    else:\n",
        "        print('Obrigado por jogar!')\n",
        "\n",
        "jogar()"
      ]
    }
  ]
}